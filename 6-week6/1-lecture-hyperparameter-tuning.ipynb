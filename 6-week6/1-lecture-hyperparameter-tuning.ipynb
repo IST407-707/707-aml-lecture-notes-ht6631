{
 "cells": [
  {
   "cell_type": "markdown",
   "metadata": {},
   "source": [
    "### **Hyperparameter Tuning**\n",
    "\n",
    "In machine learning, model parameters are learned from the data automatically during training. For instance, the weights in a linear regression or a neural network are parameters. Hyperparameters, on the other hand, are configurations external to the model, which can't be estimated from data. They are often set before the learning process begins.\n",
    "\n",
    "The performance of a machine learning model can be sensitive to the hyperparameters provided. Therefore, finding the optimal hyperparameters is crucial. This process of searching for the ideal model hyperparameters is called hyperparameter tuning or optimization.\n",
    "\n",
    "#### **Why Is Hyperparameter Tuning Important?**\n",
    "\n",
    "- **Performance**: Properly tuned hyperparameters can significantly improve the performance of a model—conversely, poorly set hyperparameters can render even a well-structured model ineffective.\n",
    "  \n",
    "- **Overfitting vs. Underfitting**: Hyperparameters can influence model complexity. For example, a high polynomial degree might fit training data perfectly but fail on test data. Hyperparameter tuning aids in finding a balanced model that generalizes well.\n",
    "\n",
    "- **Computational Efficiency**: Some hyperparameters can influence how fast a model trains. For example, the learning rate in many algorithms determines how fast they converge to a solution.\n",
    "\n",
    "#### **Common Methods for Hyperparameter Tuning**:\n",
    "\n",
    "1. **Manual Search**: Initially, practitioners often set hyperparameters based on intuition or experience. Though not systematic, it provides a good starting point.\n",
    "\n",
    "2. **Grid Search**: A brute-force approach, where you specify a subset of the hyperparameter space. It then evaluates the model performance for each point in the grid.\n",
    "\n",
    "3. **Random Search**: Instead of a comprehensive search like Grid Search, Random Search randomly selects points in the hyperparameter space and checks their performance. It can outperform Grid Search, especially when only a few hyperparameters matter.\n",
    "\n",
    "4. **Bayesian Optimization**: This probabilistic model-based approach balances exploration and exploitation. It builds a probability model of the objective function and uses it to select hyperparameters that might perform well.\n",
    "\n",
    "#### **State-of-the-Art and Sensitivity-based Approaches**:\n",
    "\n",
    "Bayesian Optimization is among the more advanced methods and is considered state-of-the-art for hyperparameter tuning. It's especially useful when evaluating the objective function (like the validation error) is costly.\n",
    "\n",
    "Another tool to use with hyperparameter tuning is *sensitivity analysis*.  Sensitivity analysis describes the process of determining how important (or sensitive) and output function is to a given parameter. The principles of sensitivity analysis are somewhat applied in methods like Bayesian Optimization, where the aim is to intelligently sample the hyperparameters that are likely to yield the best performance.\n",
    "\n",
    "In Scikit-Learn, there isn't a direct implementation of sensitivity analysis for hyperparameter tuning. However, there are more specialized libraries or tools that focus on Bayesian Optimization or other advanced optimization techniques. Libraries such as `Scikit-Optimize` and `Hyperopt` are examples of this."
   ]
  },
  {
   "cell_type": "markdown",
   "metadata": {},
   "source": [
    "### Examples\n",
    "\n",
    "1. **Grid Search**"
   ]
  },
  {
   "cell_type": "code",
   "execution_count": 4,
   "metadata": {},
   "outputs": [],
   "source": [
    "import numpy as np\n",
    "import pandas as pd\n",
    "from sklearn.datasets import load_wine\n",
    "from sklearn.model_selection import train_test_split\n",
    "import xgboost as xgb\n",
    "\n",
    "wine = load_wine()\n",
    "X = pd.DataFrame(wine.data,columns=wine.feature_names)\n",
    "y = wine.target\n",
    "X_train, X_test, y_train, y_test = train_test_split(X, y, test_size=0.2, random_state=42)"
   ]
  },
  {
   "cell_type": "code",
   "execution_count": 5,
   "metadata": {},
   "outputs": [
    {
     "name": "stdout",
     "output_type": "stream",
     "text": [
      "Fitting 3 folds for each of 64 candidates, totalling 192 fits\n",
      "Best parameters found:  {'colsample_bytree': 0.5, 'learning_rate': 0.5, 'max_depth': 3, 'min_child_weight': 3, 'n_estimators': 100, 'objective': 'multi:softmax', 'subsample': 0.7}\n",
      "Best score 0.9858156028368793\n"
     ]
    }
   ],
   "source": [
    "from sklearn.model_selection import GridSearchCV\n",
    "\n",
    "param_grid = {\n",
    "    'learning_rate': [0.01, 0.5],\n",
    "    'max_depth': [3, 7],\n",
    "    'min_child_weight': [3, 5],\n",
    "    'subsample': [0.5, 0.7],\n",
    "    'colsample_bytree': [0.5, 0.7],\n",
    "    'n_estimators' : [100, 200],\n",
    "    'objective': ['multi:softmax']\n",
    "}\n",
    "\n",
    "clf = xgb.XGBClassifier()\n",
    "grid_search = GridSearchCV(clf, param_grid, scoring='accuracy', cv=3, verbose=1)\n",
    "grid_search.fit(X_train, y_train)\n",
    "\n",
    "print(\"Best parameters found: \",grid_search.best_params_)\n",
    "print(\"Best score\",grid_search.best_score_)\n",
    "\n"
   ]
  },
  {
   "cell_type": "markdown",
   "metadata": {},
   "source": [
    "There are a couple of ways to use this to create a new model."
   ]
  },
  {
   "cell_type": "code",
   "execution_count": 6,
   "metadata": {},
   "outputs": [],
   "source": [
    "# To get the best model, you can use:\n",
    "best_model = grid_search.best_estimator_\n",
    "\n",
    "# Alternatively, you can initialize a new model like:\n",
    "new_model = xgb.XGBClassifier(**grid_search.best_params_)"
   ]
  },
  {
   "cell_type": "markdown",
   "metadata": {},
   "source": [
    "2. **Random Search**\n"
   ]
  },
  {
   "cell_type": "code",
   "execution_count": 7,
   "metadata": {},
   "outputs": [
    {
     "name": "stdout",
     "output_type": "stream",
     "text": [
      "Fitting 3 folds for each of 50 candidates, totalling 150 fits\n",
      "Best parameters found:  {'subsample': 0.6, 'objective': 'multi:softmax', 'n_estimators': 400, 'min_child_weight': 1, 'max_depth': 5, 'learning_rate': 0.45, 'colsample_bytree': 0.8}\n",
      "Best score 0.9929078014184397\n"
     ]
    }
   ],
   "source": [
    "\n",
    "from sklearn.model_selection import RandomizedSearchCV\n",
    "\n",
    "param_dist = {\n",
    "    'learning_rate': np.linspace(0.01, 1, 10),\n",
    "    'max_depth': [3, 4, 5, 6, 7, 8, 9, 10],\n",
    "    'min_child_weight': [1, 2, 3, 4, 5],\n",
    "    'subsample': np.linspace(0.5, 1, 6),\n",
    "    'colsample_bytree': np.linspace(0.5, 1, 6),\n",
    "    'n_estimators': [100, 200, 300, 400, 500],\n",
    "    'objective': ['multi:softmax']\n",
    "}\n",
    "\n",
    "rand_search = RandomizedSearchCV(clf, param_distributions=param_dist, scoring='accuracy', cv=3, verbose=1, n_iter=50)\n",
    "rand_search.fit(X_train, y_train)\n",
    "\n",
    "print(\"Best parameters found: \",rand_search.best_params_)\n",
    "print(\"Best score\",rand_search.best_score_)"
   ]
  },
  {
   "cell_type": "code",
   "execution_count": 8,
   "metadata": {},
   "outputs": [
    {
     "data": {
      "text/plain": [
       "0.9929078014184397"
      ]
     },
     "execution_count": 8,
     "metadata": {},
     "output_type": "execute_result"
    }
   ],
   "source": [
    "rand_search.best_score_"
   ]
  },
  {
   "cell_type": "markdown",
   "metadata": {},
   "source": [
    "3. **Bayesian Optimization**\n",
    "\n",
    "Although Bayesian Optimization is not part of the sklearn library, there is a popular standalone Python library called `bayesian-optimization` that is often used in conjunction with `scikit-learn` for this purpose.\n",
    "\n",
    "   Before we can use `bayesian-optimization`, you must install it:\n",
    "\n",
    "   ```bash\n",
    "   pip install bayesian-optimization\n",
    "   ```\n"
   ]
  },
  {
   "cell_type": "code",
   "execution_count": 9,
   "metadata": {},
   "outputs": [
    {
     "name": "stdout",
     "output_type": "stream",
     "text": [
      "\u001b[33mDEPRECATION: Configuring installation scheme with distutils config files is deprecated and will no longer work in the near future. If you are using a Homebrew or Linuxbrew Python, please see discussion at https://github.com/Homebrew/homebrew-core/issues/76621\u001b[0m\u001b[33m\n",
      "\u001b[0mRequirement already satisfied: bayesian-optimization in /opt/homebrew/lib/python3.9/site-packages (1.4.3)\n",
      "Requirement already satisfied: numpy>=1.9.0 in /opt/homebrew/lib/python3.9/site-packages (from bayesian-optimization) (1.24.4)\n",
      "Requirement already satisfied: scipy>=1.0.0 in /opt/homebrew/lib/python3.9/site-packages (from bayesian-optimization) (1.9.0)\n",
      "Requirement already satisfied: scikit-learn>=0.18.0 in /opt/homebrew/lib/python3.9/site-packages (from bayesian-optimization) (1.1.2)\n",
      "Requirement already satisfied: colorama>=0.4.6 in /opt/homebrew/lib/python3.9/site-packages (from bayesian-optimization) (0.4.6)\n",
      "Requirement already satisfied: joblib>=1.0.0 in /opt/homebrew/lib/python3.9/site-packages (from scikit-learn>=0.18.0->bayesian-optimization) (1.1.0)\n",
      "Requirement already satisfied: threadpoolctl>=2.0.0 in /opt/homebrew/lib/python3.9/site-packages (from scikit-learn>=0.18.0->bayesian-optimization) (3.1.0)\n",
      "\u001b[33mDEPRECATION: Configuring installation scheme with distutils config files is deprecated and will no longer work in the near future. If you are using a Homebrew or Linuxbrew Python, please see discussion at https://github.com/Homebrew/homebrew-core/issues/76621\u001b[0m\u001b[33m\n",
      "\u001b[0m\n",
      "\u001b[1m[\u001b[0m\u001b[34;49mnotice\u001b[0m\u001b[1;39;49m]\u001b[0m\u001b[39;49m A new release of pip is available: \u001b[0m\u001b[31;49m23.3.1\u001b[0m\u001b[39;49m -> \u001b[0m\u001b[32;49m24.0\u001b[0m\n",
      "\u001b[1m[\u001b[0m\u001b[34;49mnotice\u001b[0m\u001b[1;39;49m]\u001b[0m\u001b[39;49m To update, run: \u001b[0m\u001b[32;49mpython3.9 -m pip install --upgrade pip\u001b[0m\n"
     ]
    }
   ],
   "source": [
    "!pip install bayesian-optimization"
   ]
  },
  {
   "cell_type": "code",
   "execution_count": 10,
   "metadata": {},
   "outputs": [],
   "source": [
    "# Suppress warnings, as there are quite a few here\n",
    "import warnings\n",
    "warnings.filterwarnings('ignore')"
   ]
  },
  {
   "cell_type": "code",
   "execution_count": 11,
   "metadata": {},
   "outputs": [
    {
     "name": "stdout",
     "output_type": "stream",
     "text": [
      "|   iter    |  target   | colsam... |   gamma   | learni... | max_depth |\n",
      "-------------------------------------------------------------------------\n"
     ]
    },
    {
     "name": "stdout",
     "output_type": "stream",
     "text": [
      "| \u001b[0m1        \u001b[0m | \u001b[0m1.0      \u001b[0m | \u001b[0m0.5418   \u001b[0m | \u001b[0m0.3502   \u001b[0m | \u001b[0m0.04232  \u001b[0m | \u001b[0m3.67     \u001b[0m |\n",
      "| \u001b[0m2        \u001b[0m | \u001b[0m1.0      \u001b[0m | \u001b[0m0.7017   \u001b[0m | \u001b[0m0.03177  \u001b[0m | \u001b[0m0.1415   \u001b[0m | \u001b[0m4.407    \u001b[0m |\n",
      "| \u001b[0m3        \u001b[0m | \u001b[0m1.0      \u001b[0m | \u001b[0m0.4991   \u001b[0m | \u001b[0m0.435    \u001b[0m | \u001b[0m0.2662   \u001b[0m | \u001b[0m6.623    \u001b[0m |\n",
      "| \u001b[0m4        \u001b[0m | \u001b[0m1.0      \u001b[0m | \u001b[0m0.501    \u001b[0m | \u001b[0m0.9244   \u001b[0m | \u001b[0m0.09753  \u001b[0m | \u001b[0m7.131    \u001b[0m |\n",
      "| \u001b[0m5        \u001b[0m | \u001b[0m0.9722   \u001b[0m | \u001b[0m0.6923   \u001b[0m | \u001b[0m0.9427   \u001b[0m | \u001b[0m0.1009   \u001b[0m | \u001b[0m6.441    \u001b[0m |\n",
      "| \u001b[0m6        \u001b[0m | \u001b[0m1.0      \u001b[0m | \u001b[0m0.5029   \u001b[0m | \u001b[0m0.5361   \u001b[0m | \u001b[0m0.237    \u001b[0m | \u001b[0m3.782    \u001b[0m |\n",
      "| \u001b[0m7        \u001b[0m | \u001b[0m1.0      \u001b[0m | \u001b[0m0.6076   \u001b[0m | \u001b[0m0.2507   \u001b[0m | \u001b[0m0.147    \u001b[0m | \u001b[0m4.057    \u001b[0m |\n",
      "| \u001b[0m8        \u001b[0m | \u001b[0m0.9722   \u001b[0m | \u001b[0m0.343    \u001b[0m | \u001b[0m0.3646   \u001b[0m | \u001b[0m0.2849   \u001b[0m | \u001b[0m7.124    \u001b[0m |\n",
      "| \u001b[0m9        \u001b[0m | \u001b[0m0.9722   \u001b[0m | \u001b[0m0.392    \u001b[0m | \u001b[0m0.7506   \u001b[0m | \u001b[0m0.2754   \u001b[0m | \u001b[0m8.498    \u001b[0m |\n",
      "| \u001b[0m10       \u001b[0m | \u001b[0m1.0      \u001b[0m | \u001b[0m0.6902   \u001b[0m | \u001b[0m0.06224  \u001b[0m | \u001b[0m0.118    \u001b[0m | \u001b[0m4.421    \u001b[0m |\n",
      "| \u001b[0m11       \u001b[0m | \u001b[0m1.0      \u001b[0m | \u001b[0m0.6612   \u001b[0m | \u001b[0m0.0328   \u001b[0m | \u001b[0m0.1497   \u001b[0m | \u001b[0m4.427    \u001b[0m |\n",
      "| \u001b[0m12       \u001b[0m | \u001b[0m1.0      \u001b[0m | \u001b[0m0.4911   \u001b[0m | \u001b[0m0.07808  \u001b[0m | \u001b[0m0.3      \u001b[0m | \u001b[0m6.278    \u001b[0m |\n",
      "| \u001b[0m13       \u001b[0m | \u001b[0m0.9722   \u001b[0m | \u001b[0m0.8937   \u001b[0m | \u001b[0m0.7314   \u001b[0m | \u001b[0m0.05206  \u001b[0m | \u001b[0m4.11     \u001b[0m |\n",
      "| \u001b[0m14       \u001b[0m | \u001b[0m1.0      \u001b[0m | \u001b[0m0.3      \u001b[0m | \u001b[0m0.07979  \u001b[0m | \u001b[0m0.3      \u001b[0m | \u001b[0m3.808    \u001b[0m |\n",
      "| \u001b[0m15       \u001b[0m | \u001b[0m1.0      \u001b[0m | \u001b[0m0.691    \u001b[0m | \u001b[0m0.6881   \u001b[0m | \u001b[0m0.04348  \u001b[0m | \u001b[0m3.58     \u001b[0m |\n",
      "=========================================================================\n",
      "Optimized parameters: {'colsample_bytree': 0.5417563085098505, 'gamma': 0.35019678399943166, 'learning_rate': 0.04231633557801537, 'max_depth': 3}\n"
     ]
    }
   ],
   "source": [
    "import numpy as np\n",
    "import pandas as pd\n",
    "from sklearn.datasets import load_wine\n",
    "from sklearn.model_selection import train_test_split\n",
    "from xgboost import XGBClassifier\n",
    "from bayes_opt import BayesianOptimization\n",
    "from sklearn.metrics import accuracy_score\n",
    "\n",
    "# Load data\n",
    "wine = load_wine(as_frame=True)\n",
    "X = wine.data\n",
    "y = wine.target\n",
    "X_train, X_test, y_train, y_test = train_test_split(X, y, test_size=0.2, random_state=42)\n",
    "\n",
    "# Objective function for Bayesian Optimization\n",
    "def xgb_evaluate(max_depth, gamma, colsample_bytree, learning_rate):\n",
    "    params = {\n",
    "        'max_depth': int(max_depth),\n",
    "        'gamma': gamma,\n",
    "        'colsample_bytree': colsample_bytree,\n",
    "        'learning_rate': learning_rate,\n",
    "        'objective': 'multi:softprob',\n",
    "        'num_class': 3,\n",
    "        'eval_metric': 'mlogloss',\n",
    "        'silent': 1\n",
    "    }\n",
    "    model = XGBClassifier(**params)\n",
    "    model.fit(X_train, y_train)\n",
    "    predictions = model.predict(X_test)\n",
    "    accuracy = accuracy_score(y_test, predictions)\n",
    "    return accuracy\n",
    "\n",
    "# Bayesian Optimization\n",
    "xgb_bo = BayesianOptimization(xgb_evaluate, {\n",
    "    'max_depth': (3, 10),\n",
    "    'gamma': (0, 1),\n",
    "    'colsample_bytree': (0.3, 0.9),\n",
    "    'learning_rate': (0.01, 0.3)\n",
    "})\n",
    "\n",
    "# Maximize the objective function\n",
    "xgb_bo.maximize(init_points=5, n_iter=10)\n",
    "\n",
    "# Results\n",
    "params = xgb_bo.max['params']\n",
    "params['max_depth'] = int(params['max_depth'])\n",
    "print(\"Optimized parameters:\", params)\n"
   ]
  },
  {
   "cell_type": "markdown",
   "metadata": {},
   "source": [
    "### Tips for working with pipelines in SKLearn\n",
    "\n",
    "For using parameter tuning in a pipeline with `sklearn`, here are a few considerations:\n",
    "\n",
    "1. **Name your pipeline steps**: When using `Pipeline` in `sklearn`, each step is given a name (either by you or by default). When specifying hyperparameters for grid search or random search, you'll need to use these names.\n",
    "\n",
    "    For example, if your pipeline is:\n",
    "    ```python\n",
    "    pipeline = Pipeline([\n",
    "        ('scaler', StandardScaler()),\n",
    "        ('classifier', XGBClassifier())\n",
    "    ])\n",
    "    ```\n",
    "\n",
    "    Then, a parameter grid for grid search might look like:\n",
    "    ```python\n",
    "    param_grid = {\n",
    "        'classifier__n_estimators': [50, 100, 200],\n",
    "        'classifier__learning_rate': [0.01, 0.05, 0.1]\n",
    "    }\n",
    "    ```\n",
    "\n",
    "2. **Pipeline in `GridSearchCV` and `RandomizedSearchCV`**: You can indeed directly pass a pipeline into these search methods in `sklearn`. This is very handy as it allows you to search not just over model parameters, but also over preprocessing steps and their parameters.\n",
    "\n",
    "3. **Complexity & Runtime**: Keep in mind that hyperparameter tuning can significantly increase the runtime, especially with a large parameter grid or a large dataset. This is even more pronounced with Bayesian optimization because the optimization procedure itself also adds overhead. This is particularly true when you combine this with cross-validation. Always start with a smaller subset or a smaller parameter space to gauge the time it will take.\n",
    "\n",
    "4. **Consistent Seeds**: If you want reproducibility, make sure to set random seeds consistently, especially if the methods you're using (like `RandomizedSearchCV` or the model itself) have stochastic behavior.\n",
    "\n",
    "5. **Nested CV**: If you're using cross-validation within the Bayesian Optimization and also wish to evaluate the model's performance using cross-validation, you'll end up with a nested cross-validation setup. Nested CV is a robust way to estimate the performance of the entire process (including hyperparameter tuning), but it's computationally expensive."
   ]
  }
 ],
 "metadata": {
  "kernelspec": {
   "display_name": ".venv",
   "language": "python",
   "name": "python3"
  },
  "language_info": {
   "codemirror_mode": {
    "name": "ipython",
    "version": 3
   },
   "file_extension": ".py",
   "mimetype": "text/x-python",
   "name": "python",
   "nbconvert_exporter": "python",
   "pygments_lexer": "ipython3",
   "version": "3.10.5"
  },
  "orig_nbformat": 4
 },
 "nbformat": 4,
 "nbformat_minor": 2
}
